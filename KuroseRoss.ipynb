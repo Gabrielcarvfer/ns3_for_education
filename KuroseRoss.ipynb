{
 "cells": [
  {
   "cell_type": "markdown",
   "id": "63de572d-be62-4f4b-b434-c325994c88c9",
   "metadata": {},
   "source": [
    "This notebook focuses on examples inspired by Kurose & Ross's Computer Networking: A Top-Down Approach.\n",
    "\n",
    "As always, we start by loading ns-3."
   ]
  },
  {
   "cell_type": "code",
   "execution_count": 1,
   "id": "d12f2fdd-de3a-43a4-9914-d7fe230f4470",
   "metadata": {},
   "outputs": [
    {
     "name": "stderr",
     "output_type": "stream",
     "text": [
      "[runStaticInitializersOnce]: Failed to materialize symbols: { (main, { $.cling-module-148.__inits.0, _GLOBAL__sub_I_cling_module_148, __orc_init_func.cling-module-148, _ZN3ns3L16g_timeInitHelperE, __cxx_global_var_initcling_module_148_ }) }\n",
      "[runStaticInitializersOnce]: Failed to materialize symbols: { (main, { __orc_init_func.cling-module-148 }) }\n"
     ]
    }
   ],
   "source": [
    "import sys\n",
    "sys.path.append(\"./ns-3-dev/build/bindings/python\")\n",
    "sys.path.append(\"./ns-3-dev/build/lib\")\n",
    "from ns import ns"
   ]
  },
  {
   "cell_type": "markdown",
   "id": "1e7a3467-20d1-4adb-9fc1-321a1841e590",
   "metadata": {},
   "source": [
    "Now we can start building our examples. Remember to always destroy the simulator state before rerunning cells."
   ]
  },
  {
   "cell_type": "code",
   "execution_count": 2,
   "id": "932563ed-7f7f-4372-86f6-bd9dabaa4485",
   "metadata": {},
   "outputs": [],
   "source": [
    "ns.Simulator.Destroy()"
   ]
  },
  {
   "cell_type": "markdown",
   "id": "b13041d8-f40b-423f-b48d-7d6dc453451e",
   "metadata": {},
   "source": [
    "# First example: network stack (based on 6th Edition, Chapter 1)\n",
    "\n",
    "Computer networks are like onions. Layers! \n",
    "\n",
    "Onions have layers, and computer network have layers (yes, this is a Shrek reference). \n",
    "\n",
    "The widely used Internet, or TCP/IP, stack is composed of five layers.\n",
    "\n",
    "```mermaid\n",
    "flowchart \n",
    "\n",
    "subgraph NS[Network Stacks]\n",
    "  direction LR\n",
    "\n",
    "subgraph stackA[Node 1]\n",
    "  direction TB\n",
    "  A[Application]-->|sockets|B[Transport];\n",
    "  B-->C[Network]; \n",
    "  C-->D[Link];\n",
    "  D-->E[Physical];\n",
    "end\n",
    "subgraph stackB[Node 2]\n",
    "  direction BT\n",
    "  J[Physical]-->I[Link];\n",
    "  I-->H[Network];\n",
    "  H-->G[Transport]; \n",
    "  G-->|sockets|F[Application];\n",
    "end\n",
    "stackA-->|physical media|stackB;\n",
    "end\n",
    "```\n",
    "\n",
    "The application layer is where applications such as web browsers, games, office suites, banking  servicess, etc generate and consume payloads that will be transported by the network.\n",
    "\n",
    "The transport layer acts as an intermediate between the application and the underlying network, implementing basic services/protocolss or more complex ones, that try to offer more guarantees to the application, such as error checking and automatic retransmission, automatic ordering, etc. Packets that arrive or leave the transsport layer have source and destination ports, that identify which process at the sender and the receiver are trying to communicate across a network route composed of many links.\n",
    "\n",
    "The network layer implements logical routes. Theses routes are based on forwarding packets from one network node to another, connected by a physical link. These packet forwardings are also known as hops, which are limited via a counter called Time-To-Live (TTL). When TTL reaches 0, the packet is discarded, and the original sender retransmits it (in case it is using a reliable transport protocol).\n",
    "\n",
    "The link layer and physical layer are typically combined in a network interface, or network device. But you probably know them by their popular names \"network card\" and \"modem\". The link layer is also commonly refered to as the Medium-Access Control (MAC) layer, becauses it controls the physical layer access to the physical media.\n",
    "\n",
    "The physical layer of both sender (Node 1) and receiver (Node 2) are then physically connected by a physical medium, such as air (e.g. morse code, wifi, lifi, 2G/3G/4G/5G/6G, and even smoke signal), water (e.g. UAN), metals such as copper (e.g. telegraph, landline, ethernet, thunderbolt, USB), glass (e.g. optical fiber), plastic (e.g. TOSLINK).  \n",
    "\n",
    "The physical medium, or part of its capacity to transmit data, is typically referred to as a channel. The channel may have different capacitiess depending on the medium properties. Optical fiber, for example, is far less susceptible to interference, allowing for much higher capacity than copper, especially in long links, such as the submarine cables that connect countries and continents to a single global internet.\n",
    "\n",
    "Enough with the chit chat, let us see a real example of a network stack, built step by step."
   ]
  },
  {
   "cell_type": "code",
   "execution_count": null,
   "id": "340f928f-e331-46d5-b643-4e19bc6ad65a",
   "metadata": {},
   "outputs": [],
   "source": [
    "def simu_stack(withApps=False):\n",
    "    ns.Simulator.Destroy()\n",
    "\n",
    "    if withApps:\n",
    "        pass\n",
    "\n",
    "simu_stack()"
   ]
  },
  {
   "cell_type": "markdown",
   "id": "8a9d6a23-7388-4022-b96a-e62b648d336f",
   "metadata": {},
   "source": [
    "There we have it. We have our network composed of two nodes, with their respective stacks, connected by a channel.\n",
    "\n",
    "But we can't tell for sure if it is working or not. We need applications to inject traffic for that."
   ]
  },
  {
   "cell_type": "code",
   "execution_count": null,
   "id": "36d99f60-0108-4732-aec3-7b9b6e782ec8",
   "metadata": {},
   "outputs": [],
   "source": [
    "simu_stack(withApps=True)"
   ]
  },
  {
   "cell_type": "markdown",
   "id": "d3d859a5-82a1-4edd-8b05-2c386594dca5",
   "metadata": {},
   "source": [
    "# Second example: network packets (based on 6th Edition, Chapter 2, R19)"
   ]
  },
  {
   "cell_type": "markdown",
   "id": "a15b8686-5bb0-498e-8436-2eee404e3687",
   "metadata": {},
   "source": [
    "# Third example: network flow (based on 6th Edition, Chapter 1, R19)"
   ]
  },
  {
   "cell_type": "markdown",
   "id": "a8925603-b90b-49c3-be03-a69db3f5f6e5",
   "metadata": {},
   "source": [
    "# Fourth example: network delay (based on 6th Edition, Chapter 1, R18 and P7)\n"
   ]
  },
  {
   "cell_type": "markdown",
   "id": "2661a258-6a68-476f-8be8-13a01c81f296",
   "metadata": {},
   "source": [
    "# Fifth example: network bottlenecks (based on 6th Edition, Chapter 1, R19)\n",
    "\n",
    "Computer networks are formed by a series of links connecting devices physically via a medium.\n",
    "\n",
    "Those links can be interconnected logically via routes, in which nodes receive packets not meant for them, and forward them to other links, until the packet reaches its final destination or is discarded.\n",
    "\n",
    "You may have experienced a side-effect of those logical routes, for example when you subscribe to a 1Gbps internet plan, but has to wait for downloads to complete, because downloads are still at meager 10s-100s of Mbps.\n",
    "\n",
    "This typically happen due to bottlenecks in the route, which are limited by the lowest capacity link. This is why Speedtest.net and other similar services typically pick a nearby server to measure your internet speed, reducing the number of link in the route, which translates to a smaller chance of being bottlenecked by a link other than your ISP network and the remote server.\n",
    "\n",
    "Let's see this bottleneck in action by building a network composed of four nodes, connected by links of different capacities.\n",
    "\n",
    "```mermaid\n",
    "flowchart LR\n",
    "A[A];\n",
    "B[B];\n",
    "C[C];\n",
    "D[D];\n",
    "A-->|500kbps|B;\n",
    "B-->|2Mbps|C; \n",
    "C-->|1Mbps|D;\n",
    "```\n",
    "\n",
    "We want to send a big payload from A to D, for example 4MB. We also want to find our how long it takes to send this file.\n",
    "The simulation for this can be modelled as follows:"
   ]
  },
  {
   "cell_type": "code",
   "execution_count": 3,
   "id": "5d2ac46b-d35a-46c7-be80-f0fbb0060de9",
   "metadata": {},
   "outputs": [
    {
     "name": "stdout",
     "output_type": "stream",
     "text": [
      "flows 1\n",
      "Total bytes sent: 4308992\n",
      "Total bytes received: 810040\n",
      "Total transmission time: 13.303388\n",
      "Throughput: 475.7011898021767 kbps\n"
     ]
    }
   ],
   "source": [
    "def simu_bottleneck(link_thrs=[\"500kbps\", \"2Mbps\", \"1Mbps\"]):\n",
    "    ns.Simulator.Destroy()\n",
    "    topology = ns.NodeContainer(4) # create the nodes A, B, C, D\n",
    "    for i in range(3):\n",
    "        # Create a node container for each pair\n",
    "        cn = ns.NodeContainer()\n",
    "        cn.Add(topology.Get(i))\n",
    "        cn.Add(topology.Get(i+1))\n",
    "               \n",
    "        # Install a point-to-point link between them\n",
    "        csma = ns.CsmaHelper()\n",
    "        csma.SetChannelAttribute(\"DataRate\", ns.StringValue(link_thrs[i]))\n",
    "        devices = csma.Install(cn)\n",
    "\n",
    "        # Install the IP stack\n",
    "        stack = ns.InternetStackHelper()\n",
    "        stack.Install(cn)\n",
    "\n",
    "        # Set Ipv4 Addresses\n",
    "        address = ns.Ipv4AddressHelper()\n",
    "        address.SetBase(ns.Ipv4Address(f\"10.1.{i}.0\"), ns.Ipv4Mask(\"255.255.255.0\"))\n",
    "        interfaces = address.Assign(devices)\n",
    "\n",
    "    # Populate routing tables\n",
    "    ns.Ipv4GlobalRoutingHelper.PopulateRoutingTables()\n",
    "\n",
    "    # Now that we have our topology, we need to setup our application to inject \n",
    "    # 4MB of traffic from A to D, and a sink application at D to receive this data\n",
    "    sourceApplications = ns.ApplicationContainer()\n",
    "    sinkApplications = ns.ApplicationContainer()\n",
    "\n",
    "    # Install traffic source at node A\n",
    "    ipv4 = topology.Get(3).GetObject[ns.Ipv4]()\n",
    "    address = ipv4.GetAddress(1, 0).GetLocal()\n",
    "    sourceHelper = ns.OnOffHelper(\"ns3::UdpSocketFactory\", ns.InetSocketAddress(address, 80).ConvertTo())\n",
    "    # the application should transmit with a high data rate to saturate the links\n",
    "    sourceHelper.SetAttribute(\"DataRate\", ns.DataRateValue(ns.DataRate(\"10Mbps\"))) \n",
    "    sourceHelper.SetAttribute(\"MaxBytes\", ns.UintegerValue(4*1024*1024))  # transmit a total of 4 MB\n",
    "    sourceHelper.SetAttribute(\"PacketSize\", ns.UintegerValue(1024))  # in packets of 1 KB\n",
    "    sourceHelper.SetAttribute(\"OffTime\", ns.StringValue(\"ns3::ConstantRandomVariable[Constant=0.0]\")) # always transmit\n",
    "    sourceApplications.Add(sourceHelper.Install(topology.Get(0)))\n",
    "    sourceApplications.Start(ns.Seconds(1.0))\n",
    "\n",
    "    # Create sink sink at node D\n",
    "    packetSinkHelper = ns.PacketSinkHelper(\"ns3::UdpSocketFactory\", ns.InetSocketAddress(ns.Ipv4Address.GetAny(), 80).ConvertTo())\n",
    "    sinkApplications.Add(packetSinkHelper.Install(topology.Get(3)))\n",
    "    sinkApplications.Start(ns.Seconds(1))\n",
    "\n",
    "    flowmon_helper = ns.FlowMonitorHelper()\n",
    "    monitor = flowmon_helper.InstallAll()\n",
    "\n",
    "    # Start simulator\n",
    "    ns.Simulator.Stop(ns.Minutes(1))\n",
    "    ns.Simulator.Run()\n",
    "\n",
    "    # Print results\n",
    "    print(\"flows\", len(list(monitor.GetFlowStats())))\n",
    "    flow_id, flow_stats = list(monitor.GetFlowStats())[0]\n",
    "    txBytes = flow_stats.txBytes\n",
    "    rxBytes = flow_stats.rxBytes\n",
    "    txTime = (flow_stats.timeLastRxPacket-flow_stats.timeFirstRxPacket).GetSeconds()\n",
    "    thr = rxBytes*8/txTime\n",
    "    thrUnits = [\"bps\", \"kbps\", \"Mbps\", \"Gbps\", \"Tbps\"]\n",
    "    while thr > 1024:\n",
    "        thr /= 1024\n",
    "        thrUnits.pop(0)\n",
    "    print(\"Total bytes sent:\", txBytes)\n",
    "    print(\"Total bytes received:\", rxBytes)\n",
    "    print(\"Total transmission time:\", txTime)\n",
    "    print(\"Throughput:\", thr, thrUnits[0])\n",
    "\n",
    "simu_bottleneck()"
   ]
  },
  {
   "cell_type": "markdown",
   "id": "4e92685e-a8ba-4a4f-b25e-edcc3d54f951",
   "metadata": {},
   "source": [
    "The simulation results from above tell us that A transmitted ~4.3MB in approximately 13 seconds (the 0.3 MB come from packet header and/or trailer overhead, added at each network layer).\n",
    "\n",
    "Only 810 kilobytes were received by D, at an average throughput of 475 kbps.\n",
    "\n",
    "Note that the observed throughput is very close to the lowest capacity link between A and B, which is what we expected.\n",
    "\n",
    "To double-check we didn't make any mistake, we can repeat our experiment lowering the capacity of the link between B and C, for example, from 2 Mbps to 100 kbps.\n",
    "\n",
    "```mermaid\n",
    "flowchart LR\n",
    "A[A];\n",
    "B[B];\n",
    "C[C];\n",
    "D[D];\n",
    "A-->|500kbps|B;\n",
    "B-->|100kbps|C; \n",
    "C-->|1Mbps|D;\n",
    "```"
   ]
  },
  {
   "cell_type": "code",
   "execution_count": 4,
   "id": "bb598f9e-ee3e-4198-aea1-05f0e99b5034",
   "metadata": {
    "scrolled": true
   },
   "outputs": [
    {
     "name": "stdout",
     "output_type": "stream",
     "text": [
      "flows 1\n",
      "Total bytes sent: 4308992\n",
      "Total bytes received: 269312\n",
      "Total transmission time: 22.071774\n",
      "Throughput: 95.32536895312538 kbps\n"
     ]
    }
   ],
   "source": [
    "simu_bottleneck([\"500kbps\", \"100kbps\", \"1Mbps\"])"
   ]
  },
  {
   "cell_type": "markdown",
   "id": "e961772b-52a0-4a5d-b42e-34d152537b35",
   "metadata": {},
   "source": [
    "The transmission time increased, the number of received bytes decreased and the throughput was also reduced.\n",
    "\n",
    "Note that the throughput is close to the lowest capacity link between B and C, as predicted.\n",
    "\n",
    "Now let us see what happens if our internet provider (e.g. A-B link) is upgraded, and the core network links are of higher capacity."
   ]
  },
  {
   "cell_type": "code",
   "execution_count": 6,
   "id": "60e7aa26-83dd-477d-937d-57640654e161",
   "metadata": {},
   "outputs": [
    {
     "name": "stdout",
     "output_type": "stream",
     "text": [
      "flows 1\n",
      "Total bytes sent: 4308992\n",
      "Total bytes received: 4205896\n",
      "Total transmission time: 3.457587552\n",
      "Throughput: 9.280586379611725 Mbps\n"
     ]
    }
   ],
   "source": [
    "simu_bottleneck([\"10Mbps\", \"1Gbps\", \"1Gbps\"])"
   ]
  },
  {
   "cell_type": "markdown",
   "id": "3de3607f-3795-46d3-916f-5695a983af8a",
   "metadata": {},
   "source": [
    "Yet again, the achievable throughput is bound by the link with the lowest capacity.\n",
    "\n",
    "Remember this is the case before calling to your ISP and cursing the poor attendants that do not control the network infrastructure."
   ]
  },
  {
   "cell_type": "markdown",
   "id": "ab17864e-a971-48a4-9282-3ade4ac2f34f",
   "metadata": {},
   "source": [
    "# Sixth example: sockets (based on 6th Edition, Chapter 2, R19)\n"
   ]
  }
 ],
 "metadata": {
  "kernelspec": {
   "display_name": "Python 3 (ipykernel)",
   "language": "python",
   "name": "python3"
  },
  "language_info": {
   "codemirror_mode": {
    "name": "ipython",
    "version": 3
   },
   "file_extension": ".py",
   "mimetype": "text/x-python",
   "name": "python",
   "nbconvert_exporter": "python",
   "pygments_lexer": "ipython3",
   "version": "3.12.3"
  }
 },
 "nbformat": 4,
 "nbformat_minor": 5
}
