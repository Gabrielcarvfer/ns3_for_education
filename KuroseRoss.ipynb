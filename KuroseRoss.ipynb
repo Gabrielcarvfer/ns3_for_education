{
 "cells": [
  {
   "cell_type": "markdown",
   "id": "63de572d-be62-4f4b-b434-c325994c88c9",
   "metadata": {},
   "source": [
    "This notebook focuses on examples inspired by Kurose & Ross's Computer Networking: A Top-Down Approach.\n",
    "\n",
    "As always, we start by loading ns-3."
   ]
  },
  {
   "cell_type": "code",
   "execution_count": 2,
   "id": "d12f2fdd-de3a-43a4-9914-d7fe230f4470",
   "metadata": {},
   "outputs": [
    {
     "name": "stderr",
     "output_type": "stream",
     "text": [
      "[runStaticInitializersOnce]: Failed to materialize symbols: { (main, { _GLOBAL__sub_I_cling_module_136, $.cling-module-136.__inits.0, __orc_init_func.cling-module-136, _ZN3ns3L16g_timeInitHelperE, __cxx_global_var_initcling_module_136_ }) }\n",
      "[runStaticInitializersOnce]: Failed to materialize symbols: { (main, { __orc_init_func.cling-module-136 }) }\n"
     ]
    }
   ],
   "source": [
    "import sys\n",
    "sys.path.append(\"./ns-3-dev/build/bindings/python\")\n",
    "sys.path.append(\"./ns-3-dev/build/lib\")\n",
    "from ns import ns"
   ]
  },
  {
   "cell_type": "markdown",
   "id": "1e7a3467-20d1-4adb-9fc1-321a1841e590",
   "metadata": {},
   "source": [
    "Now we can start building our examples. Remember to always destroy the simulator state before rerunning cells."
   ]
  },
  {
   "cell_type": "code",
   "execution_count": 2,
   "id": "932563ed-7f7f-4372-86f6-bd9dabaa4485",
   "metadata": {},
   "outputs": [],
   "source": [
    "ns.Simulator.Destroy()"
   ]
  },
  {
   "cell_type": "markdown",
   "id": "b13041d8-f40b-423f-b48d-7d6dc453451e",
   "metadata": {},
   "source": [
    "# First example: network stack, packet and flows (based on 6th Edition, Chapter 1 & 2)\n",
    "\n",
    "Computer networks are like onions. Layers! \n",
    "\n",
    "Onions have layers, and computer network have layers (yes, this is a Shrek reference). \n",
    "\n",
    "The widely used Internet, or TCP/IP, stack is composed of five layers.\n",
    "\n",
    "```mermaid\n",
    "flowchart \n",
    "\n",
    "subgraph NS[Network Stacks]\n",
    "  direction LR\n",
    "\n",
    "subgraph stackA[Node 1]\n",
    "  direction TB\n",
    "  A[Application]-->|sockets|B[Transport];\n",
    "  B-->C[Network]; \n",
    "  C-->D[Link];\n",
    "  D-->E[Physical];\n",
    "end\n",
    "subgraph stackB[Node 2]\n",
    "  direction BT\n",
    "  J[Physical]-->I[Link];\n",
    "  I-->H[Network];\n",
    "  H-->G[Transport]; \n",
    "  G-->|sockets|F[Application];\n",
    "end\n",
    "stackA-->|physical medium|stackB;\n",
    "end\n",
    "```\n",
    "\n",
    "The application layer is where applications such as web browsers, games, office suites, banking  services, etc, generate and consume payloads that will be transported by the network.\n",
    "\n",
    "The transport layer acts as an intermediate between the application and the underlying network, implementing basic services/protocols or more complex ones, that try to offer more guarantees to the application, such as error checking and automatic retransmission, automatic ordering, etc. Packets that arrive or leave the transport layer have source and destination ports, that identify which process at the sender and the receiver are trying to communicate across a network route composed of many links.\n",
    "\n",
    "The network layer implements logical routes. These routes are based on forwarding packets from one network node to another, connected by a physical link. These packet forwardings are also known as hops, which are limited via a counter called Time-To-Live (TTL). When TTL reaches 0, the packet is discarded, and the original sender retransmits it (in case it is using a reliable transport protocol).\n",
    "\n",
    "The link layer and physical layer are typically combined in a network interface, or network device. But you probably know them by their popular names \"network card\" and \"modem\". The link layer is also commonly referred to as the Medium-Access Control (MAC) layer, because it controls the physical layer access to the physical media.\n",
    "\n",
    "The physical layer of both sender (Node 1) and receiver (Node 2) are then physically connected by a physical medium, such as air (e.g. Morse code, Wi-Fi, li-fi, 2G/3G/4G/5G/6G, and even smoke signal), water (e.g. UAN), metals such as copper (e.g. telegraph, landline, Ethernet, thunderbolt, USB), glass (e.g. optical fiber), plastic (e.g. TOSLINK).  \n",
    "\n",
    "The physical medium, or part of its capacity to transmit data, is typically referred to as a channel. The channel may have different capacities depending on the medium properties. Optical fiber, for example, is far less susceptible to interference, allowing for much higher capacity than copper, especially in long links, such as the submarine cables that connect countries and continents to a single global internet.\n",
    "\n",
    "Enough with the chit-chat, let us see a real example of a network stack, built step by step."
   ]
  },
  {
   "cell_type": "code",
   "execution_count": 4,
   "id": "340f928f-e331-46d5-b643-4e19bc6ad65a",
   "metadata": {},
   "outputs": [
    {
     "name": "stdout",
     "output_type": "stream",
     "text": [
      "Packet (Length: 146)\n",
      "Layer ETH\n",
      ":\tDestination: 00:00:00:00:00:01\n",
      "\tAddress: 00:00:00:00:00:01\n",
      "\t.... ..0. .... .... .... .... = LG bit: Globally unique address (factory default)\n",
      "\t.... ...0 .... .... .... .... = IG bit: Individual address (unicast)\n",
      "\tSource: 00:00:00:00:00:02\n",
      "\t.... ..0. .... .... .... .... = LG bit: Globally unique address (factory default)\n",
      "\t.... ...0 .... .... .... .... = IG bit: Individual address (unicast)\n",
      "\tType: IPv4 (0x0800)\n",
      "\tFrame check sequence: 0x00000000 [unverified]\n",
      "\tFCS Status: Unverified\n",
      "\tAddress: 00:00:00:00:00:02\n",
      "Layer IP\n",
      ":\t0100 .... = Version: 4\n",
      "\t.... 0101 = Header Length: 20 bytes (5)\n",
      "\tDifferentiated Services Field: 0x00 (DSCP: CS0, ECN: Not-ECT)\n",
      "\t0000 00.. = Differentiated Services Codepoint: Default (0)\n",
      "\t.... ..00 = Explicit Congestion Notification: Not ECN-Capable Transport (0)\n",
      "\tTotal Length: 128\n",
      "\tIdentification: 0x0003 (3)\n",
      "\tFlags: 0x00\n",
      "\t0... .... = Reserved bit: Not set\n",
      "\t.0.. .... = Don't fragment: Not set\n",
      "\t..0. .... = More fragments: Not set\n",
      "\t...0 0000 0000 0000 = Fragment Offset: 0\n",
      "\tTime to Live: 64\n",
      "\tProtocol: UDP (17)\n",
      "\tHeader Checksum: 0x0000 [validation disabled]\n",
      "\tHeader checksum status: Unverified\n",
      "\tSource Address: 192.168.0.2\n",
      "\tDestination Address: 192.168.0.1\n",
      "Layer UDP\n",
      ":\tSource Port: 49153\n",
      "\tDestination Port: 80\n",
      "\tLength: 108\n",
      "\tChecksum: 0x0000 [zero-value ignored]\n",
      "\tChecksum Status: Not present\n",
      "\tStream index: 0\n",
      "\tTimestamps\n",
      "\tTime since first frame: 2.995988000 seconds\n",
      "\tTime since previous frame: 1.000000000 seconds\n",
      "\tUDP payload (100 bytes)\n",
      "DATA\n"
     ]
    }
   ],
   "source": [
    "from ns import ns\n",
    "def simu_stack():\n",
    "    ns.Simulator.Destroy()\n",
    "\n",
    "    # First we create a channel (the physical medium) that will connect multiple devices.\n",
    "    # In this case, it will be the metal bus inside a hub, connected to all the usual 4 RJ-45 ports\n",
    "    hubBus = ns.CreateObject[ns.CsmaChannel]().GetObject[ns.CsmaChannel]()\n",
    "    hubBus.SetAttribute(\"DataRate\", ns.StringValue(\"100Mbps\"))\n",
    "\n",
    "    # Now we need devices to connect to our hub\n",
    "    nodes = ns.NodeContainer()\n",
    "    nodes.Create(2)\n",
    "\n",
    "    # These devices will contain the network interfaces/cards, which are typically composed of Link/MAC and Physical/PHY layers\n",
    "    for i in range(2):\n",
    "        # Let's install create a new network card\n",
    "        networkInterface = ns.CreateObject[ns.CsmaNetDevice]()\n",
    "\n",
    "        # MAC address set by the manufacturer\n",
    "        networkInterface.SetAddress(ns.Mac48Address.Allocate().ConvertTo())\n",
    "\n",
    "        # Configure a packet queue (in an actual hardware, it would be a memory buffer managed by the network card controller)\n",
    "        queue = ns.CreateObject[ns.DropTailQueue[ns.Packet]]()\n",
    "        networkInterface.SetQueue(queue)\n",
    "\n",
    "        # Then finally connect the network card to the motherboard\n",
    "        nodes.Get(i).AddDevice(networkInterface)\n",
    "\n",
    "        # And then connect the cable between the hub and the network card\n",
    "        networkInterface.Attach(hubBus)\n",
    "\n",
    "        # To show this is actually working, we are going to capture the network traffic through this device,\n",
    "        # like you can do with Wireshark on your own computer and network\n",
    "        pcapHelper = ns.PcapHelper()\n",
    "        filename = pcapHelper.GetFilenameFromDevice(\"simu_stack\", networkInterface)\n",
    "        file = pcapHelper.CreateFile(filename, ns.cppyy.gbl.std.ios.out, ns.PcapHelper.DLT_EN10MB)\n",
    "        pcapHelper.HookDefaultSink[ns.CsmaNetDevice](networkInterface, \"Sniffer\", file)\n",
    "\n",
    "    # At this point we have physical medium, phy and mac connected, but none of the upper layers responsible for routing,\n",
    "    # implementing reliable transport, multiplexing applications, and the applications themselves\n",
    "\n",
    "    # Let's first install the TCP/IP stack for routing, reliable transport and application multiplexing\n",
    "    tcpipStack = ns.InternetStackHelper()\n",
    "    tcpipStack.Install(nodes)\n",
    "\n",
    "    # We've got the \"hardware\" in place.  Now we need to add IP addresses.\n",
    "    # In consumer equipment we tend to see 192.168.0.0/24\n",
    "    ipv4h = ns.Ipv4AddressHelper()\n",
    "    ipv4h.SetBase(\"192.168.0.0\", \"255.255.255.0\")\n",
    "    ipv4h.Assign(nodes.Get(0).GetDevice(0))\n",
    "    ipv4h.Assign(nodes.Get(1).GetDevice(0))\n",
    "\n",
    "    # Now our network and transport stacks are fully configured. We just need some application\n",
    "    # Create a web server in the node 0\n",
    "    httpServerHelper = ns.UdpEchoServerHelper(80)\n",
    "    server = httpServerHelper.Install(nodes.Get(0))\n",
    "\n",
    "    # Create a web client (e.g. browser) in the node 1\n",
    "    httpClientHelper = ns.UdpEchoClientHelper(ns.InetSocketAddress(ns.Ipv4Address(\"192.168.0.1\"), 80).ConvertTo())\n",
    "    client = httpClientHelper.Install(nodes.Get(1))\n",
    "\n",
    "    # Since we are in a simulator, we need to specify when these applications start and stop\n",
    "    server.Start(ns.Seconds(1))\n",
    "    client.Start(ns.Seconds(2))\n",
    "\n",
    "    # And we need to specify when the simulation stops\n",
    "    ns.Simulator.Stop(ns.Seconds(10))\n",
    "    ns.Simulator.Run()\n",
    "\n",
    "    # Let us print the packets captured in the channel by the server\n",
    "    def print_packets_with_tshark(packet_i):\n",
    "        import pyshark # requires `apt install tshark` + `pip install pyshark`\n",
    "        cap = pyshark.FileCapture('simu_stack-0-0.pcap')\n",
    "        i = 0\n",
    "        for packet in cap:\n",
    "            if packet_i == i:\n",
    "                print(packet)\n",
    "                break\n",
    "            i += 1\n",
    "        cap.close()\n",
    "\n",
    "    # Jupyter shenanigans with Pyshark asyncio code\n",
    "    import concurrent.futures\n",
    "    def exec_async(func, *args, **kwargs):\n",
    "        with concurrent.futures.ThreadPoolExecutor(max_workers=1) as executor:\n",
    "            future = executor.submit(func, *args, **kwargs)\n",
    "        return future.result()\n",
    "    exec_async(print_packets_with_tshark, packet_i=10)\n",
    "\n",
    "simu_stack()"
   ]
  },
  {
   "cell_type": "markdown",
   "id": "8a9d6a23-7388-4022-b96a-e62b648d336f",
   "metadata": {},
   "source": [
    "There we have it. We have our network composed of two nodes, with their respective stacks, connected by a channel.\n",
    "\n",
    "From the text printed, we can check the contents of the 10th packet transmitted/received by the web server.\n",
    "\n",
    "Note that the packet contains multiple sections: Layer ETH, Layer IP, Layer UDP, DATA. These correspond to the link (Ethernet MAC), network (IPv4), transport (UDP) and application layers (user generated payload).\n",
    "\n",
    "Like previously said, the payload starts at the application layer, where it receives additional data to perform the subsequent layer duties. The most relevant data that gets prepended to the application payload by the transport layer are the source and destination ports, which identify the application process running on the peer that is generating a message and its destination process on the other peer.\n",
    "\n",
    "In the next layer, the most important data prepended to the transport layer segment is the destination and source addresses, in this case, the IP addresses. These addresses allow for a packet to be forwarded via a series of interlinked small networks that logically compose the internet, or a private WAN. The packet at the network layer is called datagram.\n",
    "\n",
    "In the MAC layer, the datagram receives additional MAC addresses, being called a frame. The MAC addresses allow devices sharing the same physical medium to send/receive messages between them with no intermediates, a process known as forwarding.\n",
    "\n",
    "The network layer implements routing as a series of forwardings, where the forwarding intermediates receive a packet MAC addressed to them, then check the destination IP address, and in case it isn't them, forward to a different network port or discards it, according to the rules in its own routing table.\n",
    "\n",
    "A communication pair, composed of source and destination IP addresses and ports, is known as a network flow. When two devices in the network communicate between themselves over the same IPs and ports, we have two flows, one for uplink and the other for downlink (in reference to one of the peers)."
   ]
  },
  {
   "cell_type": "markdown",
   "id": "a8925603-b90b-49c3-be03-a69db3f5f6e5",
   "metadata": {},
   "source": [
    "# Second example: network delay (based on 6th Edition, Chapter 1, R18 and P7)\n"
   ]
  },
  {
   "cell_type": "markdown",
   "id": "2661a258-6a68-476f-8be8-13a01c81f296",
   "metadata": {},
   "source": [
    "# Third example: network bottlenecks (based on 6th Edition, Chapter 1, R19)\n",
    "\n",
    "Computer networks are formed by a series of links connecting devices physically via a medium.\n",
    "\n",
    "Those links can be interconnected logically via routes, in which nodes receive packets not meant for them, and forward them to other links, until the packet reaches its final destination or is discarded.\n",
    "\n",
    "You may have experienced a side effect of those logical routes, for example when you subscribe to a 1Gbps internet plan, but has to wait for downloads to complete, because downloads are still at meager 10s-100s of Mbps.\n",
    "\n",
    "This typically happen due to bottlenecks in the route, which are limited by the lowest capacity link. This is why Speedtest.net and other similar services typically pick a nearby server to measure your internet speed, reducing the number of link in the route, which translates to a smaller chance of being bottlenecked by a link other than your ISP network and the remote server.\n",
    "\n",
    "Let's see this bottleneck in action by building a network composed of four nodes, connected by links of different capacities.\n",
    "\n",
    "```mermaid\n",
    "flowchart LR\n",
    "A[A];\n",
    "B[B];\n",
    "C[C];\n",
    "D[D];\n",
    "A-->|500kbps|B;\n",
    "B-->|2Mbps|C; \n",
    "C-->|1Mbps|D;\n",
    "```\n",
    "\n",
    "We want to send a big payload from A to D, for example 4MB. We also want to find out how long it takes to send this file.\n",
    "The simulation for this can be modelled as follows:"
   ]
  },
  {
   "cell_type": "code",
   "execution_count": 3,
   "id": "5d2ac46b-d35a-46c7-be80-f0fbb0060de9",
   "metadata": {},
   "outputs": [
    {
     "name": "stdout",
     "output_type": "stream",
     "text": [
      "flows 1\n",
      "Total bytes sent: 4308992\n",
      "Total bytes received: 810040\n",
      "Total transmission time: 13.303388\n",
      "Throughput: 475.7011898021767 kbps\n"
     ]
    }
   ],
   "source": [
    "def simu_bottleneck(link_thrs=[\"500kbps\", \"2Mbps\", \"1Mbps\"]):\n",
    "    ns.Simulator.Destroy()\n",
    "    topology = ns.NodeContainer(4) # create the nodes A, B, C, D\n",
    "    for i in range(3):\n",
    "        # Create a node container for each pair\n",
    "        cn = ns.NodeContainer()\n",
    "        cn.Add(topology.Get(i))\n",
    "        cn.Add(topology.Get(i+1))\n",
    "               \n",
    "        # Install a point-to-point link between them\n",
    "        csma = ns.CsmaHelper()\n",
    "        csma.SetChannelAttribute(\"DataRate\", ns.StringValue(link_thrs[i]))\n",
    "        devices = csma.Install(cn)\n",
    "\n",
    "        # Install the IP stack\n",
    "        stack = ns.InternetStackHelper()\n",
    "        stack.Install(cn)\n",
    "\n",
    "        # Set Ipv4 Addresses\n",
    "        address = ns.Ipv4AddressHelper()\n",
    "        address.SetBase(ns.Ipv4Address(f\"10.1.{i}.0\"), ns.Ipv4Mask(\"255.255.255.0\"))\n",
    "        interfaces = address.Assign(devices)\n",
    "\n",
    "    # Populate routing tables\n",
    "    ns.Ipv4GlobalRoutingHelper.PopulateRoutingTables()\n",
    "\n",
    "    # Now that we have our topology, we need to setup our application to inject \n",
    "    # 4MB of traffic from A to D, and a sink application at D to receive this data\n",
    "    sourceApplications = ns.ApplicationContainer()\n",
    "    sinkApplications = ns.ApplicationContainer()\n",
    "\n",
    "    # Install traffic source at node A\n",
    "    ipv4 = topology.Get(3).GetObject[ns.Ipv4]()\n",
    "    address = ipv4.GetAddress(1, 0).GetLocal()\n",
    "    sourceHelper = ns.OnOffHelper(\"ns3::UdpSocketFactory\", ns.InetSocketAddress(address, 80).ConvertTo())\n",
    "    # the application should transmit with a high data rate to saturate the links\n",
    "    sourceHelper.SetAttribute(\"DataRate\", ns.DataRateValue(ns.DataRate(\"10Mbps\"))) \n",
    "    sourceHelper.SetAttribute(\"MaxBytes\", ns.UintegerValue(4*1024*1024))  # transmit a total of 4 MB\n",
    "    sourceHelper.SetAttribute(\"PacketSize\", ns.UintegerValue(1024))  # in packets of 1 KB\n",
    "    sourceHelper.SetAttribute(\"OffTime\", ns.StringValue(\"ns3::ConstantRandomVariable[Constant=0.0]\")) # always transmit\n",
    "    sourceApplications.Add(sourceHelper.Install(topology.Get(0)))\n",
    "    sourceApplications.Start(ns.Seconds(1.0))\n",
    "\n",
    "    # Create sink sink at node D\n",
    "    packetSinkHelper = ns.PacketSinkHelper(\"ns3::UdpSocketFactory\", ns.InetSocketAddress(ns.Ipv4Address.GetAny(), 80).ConvertTo())\n",
    "    sinkApplications.Add(packetSinkHelper.Install(topology.Get(3)))\n",
    "    sinkApplications.Start(ns.Seconds(1))\n",
    "\n",
    "    flowmon_helper = ns.FlowMonitorHelper()\n",
    "    monitor = flowmon_helper.InstallAll()\n",
    "\n",
    "    # Start simulator\n",
    "    ns.Simulator.Stop(ns.Minutes(1))\n",
    "    ns.Simulator.Run()\n",
    "\n",
    "    # Print results\n",
    "    print(\"flows\", len(list(monitor.GetFlowStats())))\n",
    "    flow_id, flow_stats = list(monitor.GetFlowStats())[0]\n",
    "    txBytes = flow_stats.txBytes\n",
    "    rxBytes = flow_stats.rxBytes\n",
    "    txTime = (flow_stats.timeLastRxPacket-flow_stats.timeFirstRxPacket).GetSeconds()\n",
    "    thr = rxBytes*8/txTime\n",
    "    thrUnits = [\"bps\", \"kbps\", \"Mbps\", \"Gbps\", \"Tbps\"]\n",
    "    while thr > 1024:\n",
    "        thr /= 1024\n",
    "        thrUnits.pop(0)\n",
    "    print(\"Total bytes sent:\", txBytes)\n",
    "    print(\"Total bytes received:\", rxBytes)\n",
    "    print(\"Total transmission time:\", txTime)\n",
    "    print(\"Throughput:\", thr, thrUnits[0])\n",
    "\n",
    "simu_bottleneck()"
   ]
  },
  {
   "cell_type": "markdown",
   "id": "4e92685e-a8ba-4a4f-b25e-edcc3d54f951",
   "metadata": {},
   "source": [
    "The simulation results from above tell us that A transmitted ~4.3MB in approximately 13 seconds (the 0.3 MB come from packet header and/or trailer overhead, added at each network layer).\n",
    "\n",
    "Only 810 kilobytes were received by D, at an average throughput of 475 kbps.\n",
    "\n",
    "Note that the observed throughput is very close to the lowest capacity link between A and B, which is what we expected.\n",
    "\n",
    "To double-check we didn't make any mistake, we can repeat our experiment lowering the capacity of the link between B and C, for example, from 2 Mbps to 100 kbps.\n",
    "\n",
    "```mermaid\n",
    "flowchart LR\n",
    "A[A];\n",
    "B[B];\n",
    "C[C];\n",
    "D[D];\n",
    "A-->|500kbps|B;\n",
    "B-->|100kbps|C; \n",
    "C-->|1Mbps|D;\n",
    "```"
   ]
  },
  {
   "cell_type": "code",
   "execution_count": 4,
   "id": "bb598f9e-ee3e-4198-aea1-05f0e99b5034",
   "metadata": {
    "scrolled": true
   },
   "outputs": [
    {
     "name": "stdout",
     "output_type": "stream",
     "text": [
      "flows 1\n",
      "Total bytes sent: 4308992\n",
      "Total bytes received: 269312\n",
      "Total transmission time: 22.071774\n",
      "Throughput: 95.32536895312538 kbps\n"
     ]
    }
   ],
   "source": [
    "simu_bottleneck([\"500kbps\", \"100kbps\", \"1Mbps\"])"
   ]
  },
  {
   "cell_type": "markdown",
   "id": "e961772b-52a0-4a5d-b42e-34d152537b35",
   "metadata": {},
   "source": [
    "The transmission time increased, the number of received bytes decreased, and the throughput was also reduced.\n",
    "\n",
    "Note that the throughput is close to the lowest capacity link between B and C, as predicted.\n",
    "\n",
    "Now let us see what happens if our internet provider (e.g. A-B link) is upgraded, and the core network links are of higher capacity."
   ]
  },
  {
   "cell_type": "code",
   "execution_count": 6,
   "id": "60e7aa26-83dd-477d-937d-57640654e161",
   "metadata": {},
   "outputs": [
    {
     "name": "stdout",
     "output_type": "stream",
     "text": [
      "flows 1\n",
      "Total bytes sent: 4308992\n",
      "Total bytes received: 4205896\n",
      "Total transmission time: 3.457587552\n",
      "Throughput: 9.280586379611725 Mbps\n"
     ]
    }
   ],
   "source": [
    "simu_bottleneck([\"10Mbps\", \"1Gbps\", \"1Gbps\"])"
   ]
  },
  {
   "cell_type": "markdown",
   "id": "3de3607f-3795-46d3-916f-5695a983af8a",
   "metadata": {},
   "source": [
    "Yet again, the achievable throughput is bound by the link with the lowest capacity.\n",
    "\n",
    "Remember this is the case before calling to your ISP and cursing the poor attendants that do not control the network infrastructure."
   ]
  },
  {
   "cell_type": "markdown",
   "id": "ab17864e-a971-48a4-9282-3ade4ac2f34f",
   "metadata": {},
   "source": [
    "# Fourth example: sockets (based on 6th Edition, Chapter 2, R19)\n"
   ]
  },
  {
   "cell_type": "code",
   "execution_count": null,
   "id": "52989a56-a251-4863-9147-168fc9d0c097",
   "metadata": {},
   "outputs": [],
   "source": []
  }
 ],
 "metadata": {
  "kernelspec": {
   "display_name": "Python 3 (ipykernel)",
   "language": "python",
   "name": "python3"
  },
  "language_info": {
   "codemirror_mode": {
    "name": "ipython",
    "version": 3
   },
   "file_extension": ".py",
   "mimetype": "text/x-python",
   "name": "python",
   "nbconvert_exporter": "python",
   "pygments_lexer": "ipython3",
   "version": "3.10.12"
  }
 },
 "nbformat": 4,
 "nbformat_minor": 5
}
