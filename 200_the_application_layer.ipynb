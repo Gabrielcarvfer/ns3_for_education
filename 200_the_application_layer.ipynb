{
 "cells": [
  {
   "cell_type": "markdown",
   "metadata": {
    "collapsed": true
   },
   "source": [
    "# The Application layer\n",
    "\n",
    "As every person who have used the internet, you are probably \n",
    "aware that we interact with remote devices via the internet using applications.\n",
    "\n",
    "These remote devices may be from our family and friends. Or they can be from \n",
    "complete strangers that rent their servers for another strangers that want\n",
    "a place to host their own applications. These infrastructure providers are\n",
    "currently called cloud service providers (e.g. AWS, Azure, etc), and the \n",
    "renters are known as tenant customers.\n",
    "\n",
    "Let's begin by visualing a basic network setup.\n",
    "\n",
    "![](https://camo.githubusercontent.com/089f931f4b5a222a610402457c63606f8b00881c3ef2c058202f7463b0353025/68747470733a2f2f6d65726d6169642e696e6b2f696d672f70616b6f3a654e714e6b5646727779415178372d4b33484d36744e415847594f7548625451684c44745a656765624c7931736d6d434d512d6a394c74505a32414a665a6b48705f3776725f7934753044546167514f4a362d364d7a6b3853306669366f646a467170597055536b6a6444335845784c4734394e4d4b306a6a36395f3672366d596c397a77756764537a4635554b3433564d51306b657264477855786a5249364c56324b477741324172425f414c41707748494f7747344232427767365f6d363261327236756b6756715138646e31426c7354326f7a4f523379385744364e6c356b39362d68674b734f69744d6a7032393549734573495a4c557267386169565f35516733545836314244616c325f584141392d77414b475471754157364e6943797a77445f585652785731436130763837682d7033623941577a7266464d3f747970653d706e67)\n",
    "\n",
    "Now that we have decided on our network topology, we can implement it in ns-3."
   ]
  },
  {
   "cell_type": "code",
   "execution_count": 1,
   "metadata": {},
   "outputs": [],
   "source": [
    "from ns import ns\n",
    "\n",
    "nodes = ns.network.NodeContainer()\n",
    "nodes.Create(2)\n",
    "\n",
    "pointToPoint = ns.point_to_point.PointToPointHelper()\n",
    "pointToPoint.SetDeviceAttribute(\"DataRate\", ns.core.StringValue(\"5Mbps\"))\n",
    "pointToPoint.SetChannelAttribute(\"Delay\", ns.core.StringValue(\"2ms\"))\n",
    "\n",
    "devices = pointToPoint.Install(nodes)\n",
    "pointToPoint.EnablePcapAll(\"./application\", True)\n",
    "\n",
    "stack = ns.internet.InternetStackHelper()\n",
    "stack.Install(nodes)\n",
    "\n",
    "address = ns.internet.Ipv4AddressHelper()\n",
    "address.SetBase(ns.network.Ipv4Address(\"10.1.1.0\"),\n",
    "                ns.network.Ipv4Mask(\"255.255.255.0\"))\n",
    "\n",
    "interfaces = address.Assign(devices)"
   ]
  },
  {
   "cell_type": "markdown",
   "metadata": {},
   "source": [
    "In the setup above we have two devices, called Node 0 and Node 1.\n",
    "\n",
    "These network nodes, as they are usually called, can contain multiple network interfaces. \n",
    "\n",
    "Think of your phone: it has 4G, 5G, Wi-Fi, Bluetooth, NFC, plus the USB port used for charging and data. \n",
    "\n",
    "Some may have additional satellite communication capabilities, others walk-talkie like capabilities, maybe even a infrared interface, or a lightning port for Apple afficionados.\n",
    "\n",
    "All of these network interfaces are also called network devices (or NetDevice in ns-3). \n",
    "\n",
    "Each of them will contain at least the Medium Access Control (MAC) and Physical Layers (PHY), which are used to exchange messages via a link, be it based on radiofrequency, acoustics, light, etc. \n",
    "\n",
    "We are not going to focus on network devices now. But focus on the top.\n",
    "\n",
    "Notice we have an IP layer. IP stands for Internet Procotol, which is the most commonly used network layer protocol because it is the one used to communicate in the internet. Operating systems or standalone network stacks can use many other network layer protocols, such as [those available on Linux](https://github.com/torvalds/linux/blob/master/net/socket.c#L170-L217).\n",
    "\n",
    "The IP layer is responsible for routing our application packages to their destination.\n",
    "\n",
    "But we currently don't have any application, so let's add one.\n",
    "\n",
    "[![](https://mermaid.ink/img/pako:eNqVk1FrgzAUhf9KyLMO47aXsBZcV6h0FZntw9A9pOZ2lWmUGAej9L8vadywa0uZQtR7DudeP80O5zUHTPG7ZM0WLR8zgfTRdmtbiLTqodRckPdmxSPDKtHyqgWJ2oblMLAEceylK95M8209KQsQiiLt-wQZNiPi3RB9-k5fimupRsS_vRsEgOBnGs5NwzlIAeVJy-VLECW2K0WSCV5XqNHJA0uo5TCmqB-ADKRFMPFSvQxK8ezVS_VyaSrzjg-um9T5ByjXHfcDWMPBeYYn6XmS8zzJZZ7kh2dygEZRWbQKxH_gkSvwiIVnqKE_kaEWB-j8Y3TkFB25go6coiO_6KzLPk5mQRRNn9N7tFg3rYN8VLV9rvlCOmbcW478pm7GwA6uQFas4PpH3xlLhtUWKsgw1bccNqwrVYYzsddW1qk6-RI5pkp24OCu4UzBU8E0wgrTDStbXQVeqFou7OY57KH9N3Ti7rk?type=png)](https://mermaid.live/edit#pako:eNqVk1FrgzAUhf9KyLMO47aXsBZcV6h0FZntw9A9pOZ2lWmUGAej9L8vadywa0uZQtR7DudeP80O5zUHTPG7ZM0WLR8zgfTRdmtbiLTqodRckPdmxSPDKtHyqgWJ2oblMLAEceylK95M8209KQsQiiLt-wQZNiPi3RB9-k5fimupRsS_vRsEgOBnGs5NwzlIAeVJy-VLECW2K0WSCV5XqNHJA0uo5TCmqB-ADKRFMPFSvQxK8ezVS_VyaSrzjg-um9T5ByjXHfcDWMPBeYYn6XmS8zzJZZ7kh2dygEZRWbQKxH_gkSvwiIVnqKE_kaEWB-j8Y3TkFB25go6coiO_6KzLPk5mQRRNn9N7tFg3rYN8VLV9rvlCOmbcW478pm7GwA6uQFas4PpH3xlLhtUWKsgw1bccNqwrVYYzsddW1qk6-RI5pkp24OCu4UzBU8E0wgrTDStbXQVeqFou7OY57KH9N3Ti7rk)"
   ]
  },
  {
   "cell_type": "markdown",
   "metadata": {},
   "source": [
    "Now that we have an application, we can see that we had two layers missing. The top two ones: application and transport layers.\n",
    "\n",
    "The transport layer implements application multiplexing, which allows the same computer to run many services addressed by a port. And with a source port, the two applications can talk with each other on different nodes.\n",
    "\n",
    "That transport layer can be accessed by our applications via the operating system application programming interface (API). Currently, the most common API format is known as [BSD Sockets](https://docs.freebsd.org/en/books/developers-handbook/sockets/), that were then ported to pretty much every operating system.\n",
    "\n",
    "Finally, we have the application layer, where we have our applications. They can be anything connected to the internet, including but not limited to: internet banking, streaming, games, websites, etc.\n",
    "\n",
    "### Applications in ns-3\n",
    "\n",
    "Applications in ns-3 are slightly different than real applications since we have a simulator instead of an operating system. Let's take a look at the following diagram.\n",
    "\n",
    "[![](https://mermaid.ink/img/pako:eNqdkz1vAjEMhv-KlZlO7XQDCywMVVFP3W5xE0MjcknqOFSI8t_r61GVgjrATb58PO9rO94bmxyZxhR6rxQtzT2uGfsugn7PhAEw5-Atik_xbjp9ysQaxzWUXRHqP1vf14CSuNHjyihSYLHcPsDLfAkl2Q3JCPv_pmLPlQaYJb-lcmRAYiDmxCMslvszY2crDcyYUAgwXjjBIMAj3p1Cb0pZ2KtJdSfEvY-DpLzRKWKEUyj0q3pq5wbZlqIrkPEv5LIo1zOu7NIiatpc8_AHH7jRUgzZZ06WisbpJ2XA66Qu2tmOz-DZbmcYwquywBewGpM7VjhqYCam10agd_qo98NGZ9RRT51pNHS0whqkM1086FGsktpdtKYRrjQxNTtt4HEGTLNCbdrEkPNq6nEclO95OXwBCO8irg?type=png)](https://mermaid.live/edit#pako:eNqdkz1vAjEMhv-KlZlO7XQDCywMVVFP3W5xE0MjcknqOFSI8t_r61GVgjrATb58PO9rO94bmxyZxhR6rxQtzT2uGfsugn7PhAEw5-Atik_xbjp9ysQaxzWUXRHqP1vf14CSuNHjyihSYLHcPsDLfAkl2Q3JCPv_pmLPlQaYJb-lcmRAYiDmxCMslvszY2crDcyYUAgwXjjBIMAj3p1Cb0pZ2KtJdSfEvY-DpLzRKWKEUyj0q3pq5wbZlqIrkPEv5LIo1zOu7NIiatpc8_AHH7jRUgzZZ06WisbpJ2XA66Qu2tmOz-DZbmcYwquywBewGpM7VjhqYCam10agd_qo98NGZ9RRT51pNHS0whqkM1086FGsktpdtKYRrjQxNTtt4HEGTLNCbdrEkPNq6nEclO95OXwBCO8irg)\n",
    "\n",
    "As shown, instead of requesting a socket, we just create one from the application.\n",
    "\n",
    "The other obvious difference is that instead of the application being awoken where it stopped then continue processing, we instead call a function known as a callback to receive and decide what to do with that packet.\n",
    "\n",
    "Since we already have our topology ready, let's go straight to the application setup. \n",
    "\n",
    "First we will need to define two wrappers using C++."
   ]
  },
  {
   "cell_type": "code",
   "execution_count": 2,
   "metadata": {},
   "outputs": [
    {
     "data": {
      "text/plain": [
       "True"
      ]
     },
     "execution_count": 2,
     "metadata": {},
     "output_type": "execute_result"
    }
   ],
   "source": [
    "# We need to use this weird trick of defining c++ stuff from Python because\n",
    "# template forwarding isn't supported by our Cppyy bindings.\n",
    "\n",
    "ns.cppyy.cppdef(\"\"\"\n",
    "    #ifndef AppCallbackAndSend\n",
    "    #define AppCallbackAndSend\n",
    "    namespace ns3\n",
    "    {\n",
    "        Callback<void,Ptr<Socket> > make_rx_callback(void(*func)(Ptr<Socket>))\n",
    "        {\n",
    "            return MakeCallback(func);\n",
    "        }\n",
    "        EventImpl* pythonMakeEventSend(void (*f)(Ptr<Socket>, Ptr<Packet>, Address&), Ptr<Socket> socket, Ptr<Packet> packet, Address address)\n",
    "        {\n",
    "            return MakeEvent(f, socket, packet, address);\n",
    "        }\n",
    "    }\n",
    "    #endif\n",
    "\"\"\")"
   ]
  },
  {
   "cell_type": "markdown",
   "metadata": {},
   "source": [
    "Next, we can write our own application. In this case, it will be the UdpEchoServer.\n",
    "\n",
    "[![](https://mermaid.ink/img/pako:eNp1UbtuwzAM_BWCc_oDGrL0sXWpVy-EeI6FypKrR4oiyL9XruAWTVFNEnl3PJ4ubKOCDWe8VQSLByenJMsYqB0f40pSCGJnyrAxaG882jnee4dQ7o7H7TEgnZEMDQiaaRX7itKh2Dmb2A-7E27YL7BwZ-wCJEEp2xlaPciVTFNM75LUhdM_St2UoacOpNQV9ZelP-531s387wX4wAvSIk5bUpetPHKZsWBk066KSaovI4_h2qBSSxw-gmVTUsWB66pS9mDZTOJzq0Jdiem5p__1CddPeIqH4Q?type=png)](https://mermaid.live/edit#pako:eNp1UbtuwzAM_BWCc_oDGrL0sXWpVy-EeI6FypKrR4oiyL9XruAWTVFNEnl3PJ4ubKOCDWe8VQSLByenJMsYqB0f40pSCGJnyrAxaG882jnee4dQ7o7H7TEgnZEMDQiaaRX7itKh2Dmb2A-7E27YL7BwZ-wCJEEp2xlaPciVTFNM75LUhdM_St2UoacOpNQV9ZelP-531s387wX4wAvSIk5bUpetPHKZsWBk066KSaovI4_h2qBSSxw-gmVTUsWB66pS9mDZTOJzq0Jdiem5p__1CddPeIqH4Q)"
   ]
  },
  {
   "cell_type": "code",
   "execution_count": 3,
   "metadata": {},
   "outputs": [],
   "source": [
    "import sys\n",
    "class EchoServer(ns.applications.Application):\n",
    "    LOGGING = True\n",
    "    ECHO_PORT = 1234 # Application default listening port\n",
    "    socketToInstanceDict = {}\n",
    "\n",
    "    def __init__(self, node: ns.Node, port=ECHO_PORT):\n",
    "        super().__init__() # Calls ns.Application constructor\n",
    "        self.__python_owns__ = False  # Allow C++ to destroy this object when Simulator::Destroy gets called\n",
    "        self.port = port # Server listening port\n",
    "        \n",
    "        # Create an UDP socket\n",
    "        self.m_socket = ns.network.Socket.CreateSocket(node,\n",
    "                                                       ns.core.TypeId.LookupByName(\"ns3::UdpSocketFactory\"))\n",
    "        # Bind that socket to a specific port and IP addresses to listen\n",
    "        self.m_socket.Bind(ns.network.InetSocketAddress(ns.network.Ipv4Address.GetAny(), self.port).ConvertTo())\n",
    "        \n",
    "        # Creates the callback to handle packet reception using a static function of the EchoServerClass\n",
    "        # (This is a workaround for the application to work from Python)\n",
    "        self.m_socket.SetRecvCallback(ns.make_rx_callback(EchoServer._Receive))\n",
    "        \n",
    "        # Registers the socket as a dictionary key and associate it to this application instance\n",
    "        EchoServer.socketToInstanceDict[self.m_socket] = self\n",
    "\n",
    "    def __del__(self):\n",
    "        # Remove the instance entry on the class dictioanry when the object is destroyed\n",
    "        del EchoServer.socketToInstanceDict[self.m_socket]\n",
    "\n",
    "    def Send(self, packet: ns.Packet, address: ns.Address) -> None:\n",
    "        # Function that sends the packet to a target address.\n",
    "        self.m_socket.SendTo(packet, 0, address)\n",
    "        if EchoServer.LOGGING:\n",
    "            inetAddress = ns.InetSocketAddress.ConvertFrom(address)\n",
    "            print(\"At time +{s}s server sent {b} bytes from {ip} port {port}\"\n",
    "                  .format(s=ns.Simulator.Now().GetSeconds(),\n",
    "                          b=packet.__deref__().GetSize(),\n",
    "                          ip=inetAddress.GetIpv4(),\n",
    "                          port=inetAddress.GetPort()),\n",
    "                  file=sys.stderr,\n",
    "                  flush=True)\n",
    "\n",
    "    def Receive(self):\n",
    "        # Function that receives a packet and the address of the sender\n",
    "        address = ns.Address()\n",
    "        packet = self.m_socket.RecvFrom(address)\n",
    "        if EchoServer.LOGGING:\n",
    "            inetAddress = ns.InetSocketAddress.ConvertFrom(address)\n",
    "            print(\"At time +{s}s server received {b} bytes from {ip} port {port}\"\n",
    "                  .format(s=ns.Simulator.Now().GetSeconds(),\n",
    "                          b=packet.__deref__().GetSize(),\n",
    "                          ip=inetAddress.GetIpv4(),\n",
    "                          port=inetAddress.GetPort()),\n",
    "                  file=sys.stderr,\n",
    "                  flush=True)\n",
    "        # Schedule the Send function to send the packet back to its sender after 1 second\n",
    "        event = ns.pythonMakeEventSend(EchoServer._Send, self.m_socket, packet, address)\n",
    "        ns.Simulator.Schedule(ns.Seconds(1), event)\n",
    "\n",
    "    @staticmethod\n",
    "    def _Send(socket: ns.Socket, packet: ns.Packet, address: ns.Address):\n",
    "        # Static function that identifies the EchoServer instance that is\n",
    "        # supposed to send a packet and calls it to send\n",
    "        instance = EchoServer.socketToInstanceDict[socket]\n",
    "        instance.Send(packet, address)\n",
    "        pass\n",
    "\n",
    "    @staticmethod\n",
    "    def _Receive(socket: ns.Socket) -> None:\n",
    "        # Static function that identifies the EchoServer instance that is\n",
    "        # supposed to receive a packet and calls it to receive\n",
    "        instance = EchoServer.socketToInstanceDict[socket]\n",
    "        instance.Receive()\n",
    "        pass"
   ]
  },
  {
   "cell_type": "markdown",
   "metadata": {},
   "source": [
    "After the application is ready, we can use it in our topology."
   ]
  },
  {
   "cell_type": "code",
   "execution_count": 4,
   "metadata": {},
   "outputs": [
    {
     "name": "stderr",
     "output_type": "stream",
     "text": [
      "At time +2s client sent 101 bytes to 10.1.1.2 port 1234\n",
      "At time +2.0022096s server received 101 bytes from 10.1.1.1 port 49153\n",
      "At time +3s client sent 101 bytes to At time +3.0022096s server sent 101 bytes from 10.1.1.1 port 49153\n",
      "10.1.1.2 port 1234\n",
      "At time +3.0022096s server received 101 bytes from 10.1.1.1 port 49153\n",
      "At time +4.0022096s server sent 101 bytes from 10.1.1.1 port 49153At time +3.00442s client received 101 bytes from 10.1.1.2 port 1234\n",
      "At time +4s client sent 101 bytes to 10.1.1.2 port 1234\n",
      "\n",
      "At time +4.0022096s server received 101 bytes from 10.1.1.1 port 49153\n",
      "At time +5.0022096s server sent 101 bytes from 10.1.1.1 port 49153\n",
      "At time +4.00442s client received 101 bytes from 10.1.1At time +5.0022096s server received 101 bytes from 10.1.1.1 port 49153\n",
      ".2 port 1234\n",
      "At time +5s client sent 101 bytes to 10.1.1.2 port 1234\n",
      "At time +6.0022096s server sent 101 bytes from 10.1.1.1 port 49153\n",
      "At time +5.00442s client received 101 bytes from 10.1.1.2 port 1234\n",
      "At time +6s client sent 101 bytes to 10.1.1.2 port 1234\n",
      "At time +6.0022096s server received 101 bytes from 10.1.1.1 port 49153\n",
      "At time +7.0022096s server sent 101 bytes from 10.1.1.1 port 49153\n",
      "At time +6.00442s client received 101 bytes from 10.1.1.2 port 1234\n",
      "At time +7s client sent 101 bytes to 10.1.1.2 port 1234\n",
      "At time +7.0022096s server received 101 bytes from 10.1.1.1 port 49153\n",
      "At time +8.0022096s server sent 101 bytes from 10.1.1.1 port 49153\n",
      "At time +7.00442s client received 101 bytes from 10.1.1.2 port 1234\n",
      "At time +8s client sent 101 bytes to 10.1.1.2 port 1234\n",
      "At time +8.0022096s server received 101 bytes from 10.1.1.1 port 49153\n",
      "At time +9.0022096s server sent 101 bytes from 10.1.1.1 port 49153\n",
      "At time +8.00442s client received 101 bytes from 10.1.1.2 port 1234\n",
      "At time +9s client sent 101 bytes to 10.1.1.2 port 1234\n",
      "At time +9.0022096s server received 101 bytes from 10.1.1.1 port 49153\n",
      "At time +10.0022096s server sent 101 bytes from 10.1.1.1 port 49153\n",
      "At time +9.00442s client received 101 bytes from 10.1.1.2 port 1234\n"
     ]
    }
   ],
   "source": [
    "echoServer = EchoServer(nodes.Get(1))\n",
    "nodes.Get(1).AddApplication(echoServer)\n",
    "\n",
    "serverApps = ns.ApplicationContainer()\n",
    "serverApps.Add(echoServer)\n",
    "serverApps.Start(ns.core.Seconds(1.0))\n",
    "serverApps.Stop(ns.core.Seconds(10.0))\n",
    "\n",
    "address = interfaces.GetAddress(1).ConvertTo()\n",
    "\n",
    "ns.LogComponentEnable(\"UdpEchoClientApplication\", ns.core.LOG_LEVEL_INFO)\n",
    "echoClient = ns.applications.UdpEchoClientHelper(address, EchoServer.ECHO_PORT)\n",
    "echoClient.SetAttribute(\"MaxPackets\", ns.core.UintegerValue(10))\n",
    "echoClient.SetAttribute(\"Interval\", ns.core.TimeValue(ns.core.Seconds(1.0)))\n",
    "echoClient.SetAttribute(\"PacketSize\", ns.core.UintegerValue(101))\n",
    "\n",
    "clientApps = echoClient.Install(nodes.Get(0))\n",
    "clientApps.Start(ns.core.Seconds(2.0))\n",
    "clientApps.Stop(ns.core.Seconds(10.0))\n",
    "\n",
    "ns.Simulator.Run()\n",
    "ns.Simulator.Destroy()\n",
    "ns.FatalImpl.FlushStreams() # Make sure the pcaps are written"
   ]
  },
  {
   "cell_type": "markdown",
   "metadata": {},
   "source": [
    "As we can se printed above, our server application works. Due to how the bindings handles output, the messages may be out of order, but as long as the execution time of the examples worked, everything should be working just fine.\n",
    "\n",
    "We can also see our Pcap to double check that."
   ]
  },
  {
   "cell_type": "code",
   "execution_count": 8,
   "metadata": {},
   "outputs": [
    {
     "name": "stdout",
     "output_type": "stream",
     "text": [
      "Packet (Length: 131)\n",
      "Layer PPP\n",
      ":\tProtocol: Internet Protocol version 4 (0x0021)\n",
      "Layer IP\n",
      ":\t0100 .... = Version: 4\n",
      "\t.... 0101 = Header Length: 20 bytes (5)\n",
      "\tDifferentiated Services Field: 0x00 (DSCP: CS0, ECN: Not-ECT)\n",
      "\t0000 00.. = Differentiated Services Codepoint: Default (0)\n",
      "\t.... ..00 = Explicit Congestion Notification: Not ECN-Capable Transport (0)\n",
      "\tTotal Length: 129\n",
      "\tIdentification: 0x0000 (0)\n",
      "\t000. .... = Flags: 0x0\n",
      "\t0... .... = Reserved bit: Not set\n",
      "\t.0.. .... = Don't fragment: Not set\n",
      "\t..0. .... = More fragments: Not set\n",
      "\t...0 0000 0000 0000 = Fragment Offset: 0\n",
      "\tTime to Live: 64\n",
      "\tProtocol: UDP (17)\n",
      "\tHeader Checksum: 0x0000 [validation disabled]\n",
      "\tHeader checksum status: Unverified\n",
      "\tSource Address: 10.1.1.1\n",
      "\tDestination Address: 10.1.1.2\n",
      "Layer UDP\n",
      ":\tSource Port: 49153\n",
      "\tDestination Port: 1234\n",
      "\tLength: 109\n",
      "\tChecksum: 0x0000 [zero-value ignored]\n",
      "\tChecksum Status: Not present\n",
      "\tStream index: 0\n",
      "\tTimestamps\n",
      "\tTime since first frame: 0.000000000 seconds\n",
      "\tTime since previous frame: 0.000000000 seconds\n",
      "\tUDP payload (101 bytes)\n",
      "DATA\n"
     ]
    }
   ],
   "source": [
    "def print_packets_with_tshark(packet_i):\n",
    "    import pyshark\n",
    "    cap = pyshark.FileCapture('application-0-0.pcap')\n",
    "    i = 0\n",
    "    for packet in cap:\n",
    "        if packet_i == i:\n",
    "            print(packet)\n",
    "            break\n",
    "        i += 1\n",
    "    cap.close()\n",
    "    \n",
    "# Jupyter shenanigans with Pyshark asyncio code\n",
    "import concurrent.futures\n",
    "def exec_async(func, *args, **kwargs):\n",
    "    with concurrent.futures.ThreadPoolExecutor(max_workers=1) as executor:\n",
    "        future = executor.submit(func, *args, **kwargs)\n",
    "    return future.result()\n",
    "result = exec_async(print_packets_with_tshark, packet_i=1)"
   ]
  },
  {
   "cell_type": "markdown",
   "metadata": {},
   "source": [
    "We can see above a packet from the EchoClient, which is an IPv4 packet with UDP transport protocol. \n",
    "\n",
    "Source address refers to the Node 0, while the target address refers to the Node 1. \n",
    "\n",
    "The payload has 101 bytes, as configured in `echoClient.SetAttribute(\"PacketSize\", ns.core.UintegerValue(101))`."
   ]
  },
  {
   "cell_type": "code",
   "execution_count": 10,
   "metadata": {},
   "outputs": [
    {
     "name": "stdout",
     "output_type": "stream",
     "text": [
      "Packet (Length: 131)\n",
      "Layer PPP\n",
      ":\tProtocol: Internet Protocol version 4 (0x0021)\n",
      "Layer IP\n",
      ":\t0100 .... = Version: 4\n",
      "\t.... 0101 = Header Length: 20 bytes (5)\n",
      "\tDifferentiated Services Field: 0x00 (DSCP: CS0, ECN: Not-ECT)\n",
      "\t0000 00.. = Differentiated Services Codepoint: Default (0)\n",
      "\t.... ..00 = Explicit Congestion Notification: Not ECN-Capable Transport (0)\n",
      "\tTotal Length: 129\n",
      "\tIdentification: 0x0000 (0)\n",
      "\t000. .... = Flags: 0x0\n",
      "\t0... .... = Reserved bit: Not set\n",
      "\t.0.. .... = Don't fragment: Not set\n",
      "\t..0. .... = More fragments: Not set\n",
      "\t...0 0000 0000 0000 = Fragment Offset: 0\n",
      "\tTime to Live: 64\n",
      "\tProtocol: UDP (17)\n",
      "\tHeader Checksum: 0x0000 [validation disabled]\n",
      "\tHeader checksum status: Unverified\n",
      "\tSource Address: 10.1.1.2\n",
      "\tDestination Address: 10.1.1.1\n",
      "Layer UDP\n",
      ":\tSource Port: 1234\n",
      "\tDestination Port: 49153\n",
      "\tLength: 109\n",
      "\tChecksum: 0x0000 [zero-value ignored]\n",
      "\tChecksum Status: Not present\n",
      "\tStream index: 0\n",
      "\tTimestamps\n",
      "\tTime since first frame: 1.004419000 seconds\n",
      "\tTime since previous frame: 0.004419000 seconds\n",
      "\tUDP payload (101 bytes)\n",
      "DATA\n"
     ]
    }
   ],
   "source": [
    "result = exec_async(print_packets_with_tshark, packet_i=2)"
   ]
  },
  {
   "cell_type": "markdown",
   "metadata": {},
   "source": [
    "We can see above a packet from the EchoServer. \n",
    "\n",
    "Same everything, but with a delay of 1 second (`Time since first frame: 1.004419000 seconds`), since our EchoServer sends the message back to the EchoClient a second later.\n",
    "\n",
    "Source address refers to the Node 1, while the target address refers to the Node 0."
   ]
  },
  {
   "cell_type": "code",
   "execution_count": null,
   "metadata": {},
   "outputs": [],
   "source": []
  }
 ],
 "metadata": {
  "kernelspec": {
   "display_name": "Python 3 (ipykernel)",
   "language": "python",
   "name": "python3"
  },
  "language_info": {
   "codemirror_mode": {
    "name": "ipython",
    "version": 3
   },
   "file_extension": ".py",
   "mimetype": "text/x-python",
   "name": "python",
   "nbconvert_exporter": "python",
   "pygments_lexer": "ipython3",
   "version": "3.11.2"
  }
 },
 "nbformat": 4,
 "nbformat_minor": 1
}
